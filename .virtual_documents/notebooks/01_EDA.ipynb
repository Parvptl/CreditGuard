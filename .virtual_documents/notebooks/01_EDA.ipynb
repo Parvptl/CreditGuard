# Import the pandas library
import pandas as pd

# Define the path to your data file
file_path = 'D:/PROJECTS/CreditGuard/data/heloc_dataset_v1.csv'

# Load the dataset into a pandas DataFrame
df = pd.read_csv(file_path)

# --- Initial Inspection ---

# 1. Display the first 5 rows to see the data's structure
print("First 5 rows of the data:")
display(df.head())

# 2. Get a summary of the data types and non-null values
print("\nData types and missing values:")
df.info()

# 3. Get basic statistical details for numerical columns
print("\nStatistical summary:")
display(df.describe())


# Import visualization libraries
import matplotlib.pyplot as plt
import seaborn as sns

# Set a style for the plots for a nicer look
sns.set_style('whitegrid')


# --- Analyze the Target Variable ---
plt.figure(figsize=(6, 5))
sns.countplot(x='RiskPerformance', data=df)
plt.title('Distribution of Loan Outcomes (Good vs. Bad/Default)')
plt.xlabel('Loan Status')
plt.ylabel('Number of Applicants')
plt.show()

# Calculate the exact percentage
percentage = df['RiskPerformance'].value_counts(normalize=True) * 100
print(f"Percentage of each class:\n{percentage}")


# --- Analyze Numerical Features ---
# Get a list of all columns with numerical data types
numerical_cols = df.select_dtypes(include=['int64', 'float64']).columns

# Create histograms for each numerical column
df[numerical_cols].hist(figsize=(15, 12), bins=30, layout=(5, 5))
plt.suptitle('Histograms of Numerical Features', y=1.02)
plt.tight_layout()
plt.show()



