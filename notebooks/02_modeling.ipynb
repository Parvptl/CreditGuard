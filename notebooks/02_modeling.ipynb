{
 "cells": [
  {
   "cell_type": "code",
   "execution_count": 2,
   "id": "13a33aac-9e65-42b1-b5c9-2d9814dcb1bc",
   "metadata": {},
   "outputs": [
    {
     "name": "stdout",
     "output_type": "stream",
     "text": [
      "Data successfully loaded and split.\n",
      "Training set shape: (8367, 23)\n",
      "Testing set shape: (2092, 23)\n"
     ]
    }
   ],
   "source": [
    "import pandas as pd\n",
    "from sklearn.model_selection import train_test_split\n",
    "from sklearn.linear_model import LogisticRegression\n",
    "from sklearn.metrics import accuracy_score, classification_report, confusion_matrix\n",
    "import seaborn as sns\n",
    "import matplotlib.pyplot as plt\n",
    "\n",
    "# Load the CLEANED dataset\n",
    "file_path = 'D:/PROJECTS/CreditGuard/data/heloc_dataset_processed.csv'\n",
    "df = pd.read_csv(file_path)\n",
    "\n",
    "# --- Separate Features (X) and Target (y) ---\n",
    "# X contains all columns EXCEPT the one we want to predict ('RiskPerformance')\n",
    "X = df.drop('RiskPerformance', axis=1)\n",
    "\n",
    "# y contains ONLY the column we want to predict\n",
    "y = df['RiskPerformance']\n",
    "\n",
    "# --- Split Data into Training and Testing Sets ---\n",
    "# We'll use 80% of the data to train the model and 20% to test its performance\n",
    "X_train, X_test, y_train, y_test = train_test_split(X, y, test_size=0.2, random_state=42, stratify=y)\n",
    "\n",
    "print(\"Data successfully loaded and split.\")\n",
    "print(f\"Training set shape: {X_train.shape}\")\n",
    "print(f\"Testing set shape: {X_test.shape}\")"
   ]
  },
  {
   "cell_type": "code",
   "execution_count": 3,
   "id": "8efbe469-9a0e-4348-aca1-4eb630814d88",
   "metadata": {},
   "outputs": [
    {
     "name": "stdout",
     "output_type": "stream",
     "text": [
      "Distribution of 'RiskPerformance' in the loaded data:\n",
      "RiskPerformance\n",
      "1    5459\n",
      "0    5000\n",
      "Name: count, dtype: int64\n"
     ]
    }
   ],
   "source": [
    "# --- DIAGNOSTIC CELL ---\n",
    "# Check the distribution of the target variable in the loaded dataframe\n",
    "print(\"Distribution of 'RiskPerformance' in the loaded data:\")\n",
    "print(df['RiskPerformance'].value_counts())"
   ]
  },
  {
   "cell_type": "code",
   "execution_count": 4,
   "id": "560a44d9-77a8-4a2d-bfae-6fdda646e4f5",
   "metadata": {},
   "outputs": [
    {
     "name": "stdout",
     "output_type": "stream",
     "text": [
      "Logistic Regression model trained successfully!\n"
     ]
    },
    {
     "name": "stderr",
     "output_type": "stream",
     "text": [
      "C:\\Users\\Asus\\anaconda3\\Lib\\site-packages\\sklearn\\linear_model\\_logistic.py:460: ConvergenceWarning: lbfgs failed to converge (status=1):\n",
      "STOP: TOTAL NO. of ITERATIONS REACHED LIMIT.\n",
      "\n",
      "Increase the number of iterations (max_iter) or scale the data as shown in:\n",
      "    https://scikit-learn.org/stable/modules/preprocessing.html\n",
      "Please also refer to the documentation for alternative solver options:\n",
      "    https://scikit-learn.org/stable/modules/linear_model.html#logistic-regression\n",
      "  n_iter_i = _check_optimize_result(\n"
     ]
    }
   ],
   "source": [
    "# --- Train the Logistic Regression Model ---\n",
    "\n",
    "# Create the model instance\n",
    "# max_iter=1000 ensures the model has enough iterations to find the best solution\n",
    "log_reg_model = LogisticRegression(max_iter=1000, random_state=42)\n",
    "\n",
    "# Train the model on the training data\n",
    "log_reg_model.fit(X_train, y_train)\n",
    "\n",
    "print(\"Logistic Regression model trained successfully!\")"
   ]
  },
  {
   "cell_type": "code",
   "execution_count": 5,
   "id": "57da4151-ac75-4c48-9b41-10a940347b11",
   "metadata": {},
   "outputs": [
    {
     "name": "stdout",
     "output_type": "stream",
     "text": [
      "Model Accuracy: 0.7132\n",
      "\n",
      "Classification Report:\n",
      "              precision    recall  f1-score   support\n",
      "\n",
      "    Good (0)       0.69      0.73      0.71      1000\n",
      "     Bad (1)       0.74      0.70      0.72      1092\n",
      "\n",
      "    accuracy                           0.71      2092\n",
      "   macro avg       0.71      0.71      0.71      2092\n",
      "weighted avg       0.71      0.71      0.71      2092\n",
      "\n",
      "\n",
      "Confusion Matrix:\n"
     ]
    },
    {
     "data": {
      "image/png": "[encoded data removed]",
      "text/plain": [
       "<Figure size 640x480 with 2 Axes>"
      ]
     },
     "metadata": {},
     "output_type": "display_data"
    }
   ],
   "source": [
    "# --- Evaluate the Model ---\n",
    "\n",
    "# Make predictions on the unseen test data\n",
    "y_pred = log_reg_model.predict(X_test)\n",
    "\n",
    "# --- Performance Metrics ---\n",
    "\n",
    "# 1. Accuracy Score\n",
    "accuracy = accuracy_score(y_test, y_pred)\n",
    "print(f\"Model Accuracy: {accuracy:.4f}\")\n",
    "\n",
    "# 2. Classification Report (Precision, Recall, F1-Score)\n",
    "print(\"\\nClassification Report:\")\n",
    "print(classification_report(y_test, y_pred, target_names=['Good (0)', 'Bad (1)']))\n",
    "\n",
    "# 3. Confusion Matrix\n",
    "print(\"\\nConfusion Matrix:\")\n",
    "cm = confusion_matrix(y_test, y_pred)\n",
    "sns.heatmap(cm, annot=True, fmt='d', cmap='Blues', xticklabels=['Good', 'Bad'], yticklabels=['Good', 'Bad'])\n",
    "plt.xlabel('Predicted')\n",
    "plt.ylabel('Actual')\n",
    "plt.show()"
   ]
  },
  {
   "cell_type": "code",
   "execution_count": 6,
   "id": "ef745021-beb3-4d7b-8992-6ea4f7c8c028",
   "metadata": {},
   "outputs": [
    {
     "name": "stdout",
     "output_type": "stream",
     "text": [
      "Training the SVM model...\n",
      "SVM model trained successfully!\n",
      "\n",
      "--- SVM Performance ---\n",
      "SVM Accuracy: 0.7103\n",
      "\n",
      "Classification Report:\n",
      "              precision    recall  f1-score   support\n",
      "\n",
      "    Good (0)       0.69      0.70      0.70      1000\n",
      "     Bad (1)       0.73      0.72      0.72      1092\n",
      "\n",
      "    accuracy                           0.71      2092\n",
      "   macro avg       0.71      0.71      0.71      2092\n",
      "weighted avg       0.71      0.71      0.71      2092\n",
      "\n"
     ]
    }
   ],
   "source": [
    "# --- Step 1: Train and Evaluate an SVM Model ---\n",
    "from sklearn.svm import SVC\n",
    "\n",
    "# Create the SVM model instance\n",
    "# The 'rbf' kernel is great for finding complex patterns\n",
    "svm_model = SVC(kernel='rbf', random_state=42)\n",
    "\n",
    "# Train the model\n",
    "print(\"Training the SVM model...\")\n",
    "svm_model.fit(X_train, y_train)\n",
    "print(\"SVM model trained successfully!\")\n",
    "\n",
    "# Make predictions\n",
    "y_pred_svm = svm_model.predict(X_test)\n",
    "\n",
    "# Evaluate the performance\n",
    "print(\"\\n--- SVM Performance ---\")\n",
    "print(f\"SVM Accuracy: {accuracy_score(y_test, y_pred_svm):.4f}\")\n",
    "print(\"\\nClassification Report:\")\n",
    "print(classification_report(y_test, y_pred_svm, target_names=['Good (0)', 'Bad (1)']))"
   ]
  },
  {
   "cell_type": "code",
   "execution_count": 7,
   "id": "16a429e6-9f87-4b0d-b3e8-7e2bbca7a072",
   "metadata": {},
   "outputs": [
    {
     "name": "stdout",
     "output_type": "stream",
     "text": [
      "Training the Random Forest model...\n",
      "Random Forest model trained successfully!\n",
      "\n",
      "--- Random Forest Performance ---\n",
      "Random Forest Accuracy: 0.7165\n",
      "\n",
      "Classification Report:\n",
      "              precision    recall  f1-score   support\n",
      "\n",
      "    Good (0)       0.72      0.66      0.69      1000\n",
      "     Bad (1)       0.71      0.77      0.74      1092\n",
      "\n",
      "    accuracy                           0.72      2092\n",
      "   macro avg       0.72      0.71      0.71      2092\n",
      "weighted avg       0.72      0.72      0.72      2092\n",
      "\n"
     ]
    }
   ],
   "source": [
    "# --- Step 2: Train and Evaluate a Random Forest Model ---\n",
    "from sklearn.ensemble import RandomForestClassifier\n",
    "\n",
    "# Create the Random Forest model instance\n",
    "# n_estimators=100 means it will build 100 decision trees\n",
    "rf_model = RandomForestClassifier(n_estimators=100, random_state=42)\n",
    "\n",
    "# Train the model\n",
    "print(\"Training the Random Forest model...\")\n",
    "rf_model.fit(X_train, y_train)\n",
    "print(\"Random Forest model trained successfully!\")\n",
    "\n",
    "# Make predictions\n",
    "y_pred_rf = rf_model.predict(X_test)\n",
    "\n",
    "# Evaluate the performance\n",
    "print(\"\\n--- Random Forest Performance ---\")\n",
    "print(f\"Random Forest Accuracy: {accuracy_score(y_test, y_pred_rf):.4f}\")\n",
    "print(\"\\nClassification Report:\")\n",
    "print(classification_report(y_test, y_pred_rf, target_names=['Good (0)', 'Bad (1)']))"
   ]
  },
  {
   "cell_type": "code",
   "execution_count": 8,
   "id": "2d22c71c-cd8b-4ba6-bfb3-6d1e96a5d8dc",
   "metadata": {},
   "outputs": [
    {
     "name": "stdout",
     "output_type": "stream",
     "text": [
      "Cross-validating Logistic Regression...\n"
     ]
    },
    {
     "name": "stderr",
     "output_type": "stream",
     "text": [
      "C:\\Users\\Asus\\anaconda3\\Lib\\site-packages\\sklearn\\linear_model\\_logistic.py:460: ConvergenceWarning: lbfgs failed to converge (status=1):\n",
      "STOP: TOTAL NO. of ITERATIONS REACHED LIMIT.\n",
      "\n",
      "Increase the number of iterations (max_iter) or scale the data as shown in:\n",
      "    https://scikit-learn.org/stable/modules/preprocessing.html\n",
      "Please also refer to the documentation for alternative solver options:\n",
      "    https://scikit-learn.org/stable/modules/linear_model.html#logistic-regression\n",
      "  n_iter_i = _check_optimize_result(\n",
      "C:\\Users\\Asus\\anaconda3\\Lib\\site-packages\\sklearn\\linear_model\\_logistic.py:460: ConvergenceWarning: lbfgs failed to converge (status=1):\n",
      "STOP: TOTAL NO. of ITERATIONS REACHED LIMIT.\n",
      "\n",
      "Increase the number of iterations (max_iter) or scale the data as shown in:\n",
      "    https://scikit-learn.org/stable/modules/preprocessing.html\n",
      "Please also refer to the documentation for alternative solver options:\n",
      "    https://scikit-learn.org/stable/modules/linear_model.html#logistic-regression\n",
      "  n_iter_i = _check_optimize_result(\n",
      "C:\\Users\\Asus\\anaconda3\\Lib\\site-packages\\sklearn\\linear_model\\_logistic.py:460: ConvergenceWarning: lbfgs failed to converge (status=1):\n",
      "STOP: TOTAL NO. of ITERATIONS REACHED LIMIT.\n",
      "\n",
      "Increase the number of iterations (max_iter) or scale the data as shown in:\n",
      "    https://scikit-learn.org/stable/modules/preprocessing.html\n",
      "Please also refer to the documentation for alternative solver options:\n",
      "    https://scikit-learn.org/stable/modules/linear_model.html#logistic-regression\n",
      "  n_iter_i = _check_optimize_result(\n",
      "C:\\Users\\Asus\\anaconda3\\Lib\\site-packages\\sklearn\\linear_model\\_logistic.py:460: ConvergenceWarning: lbfgs failed to converge (status=1):\n",
      "STOP: TOTAL NO. of ITERATIONS REACHED LIMIT.\n",
      "\n",
      "Increase the number of iterations (max_iter) or scale the data as shown in:\n",
      "    https://scikit-learn.org/stable/modules/preprocessing.html\n",
      "Please also refer to the documentation for alternative solver options:\n",
      "    https://scikit-learn.org/stable/modules/linear_model.html#logistic-regression\n",
      "  n_iter_i = _check_optimize_result(\n",
      "C:\\Users\\Asus\\anaconda3\\Lib\\site-packages\\sklearn\\linear_model\\_logistic.py:460: ConvergenceWarning: lbfgs failed to converge (status=1):\n",
      "STOP: TOTAL NO. of ITERATIONS REACHED LIMIT.\n",
      "\n",
      "Increase the number of iterations (max_iter) or scale the data as shown in:\n",
      "    https://scikit-learn.org/stable/modules/preprocessing.html\n",
      "Please also refer to the documentation for alternative solver options:\n",
      "    https://scikit-learn.org/stable/modules/linear_model.html#logistic-regression\n",
      "  n_iter_i = _check_optimize_result(\n"
     ]
    },
    {
     "name": "stdout",
     "output_type": "stream",
     "text": [
      "Logistic Regression CV Accuracies: [0.64674952 0.71701721 0.72609943 0.69885277 0.73935916]\n",
      "Average CV Accuracy: 0.7056\n",
      "\n",
      "Cross-validating SVM...\n",
      "SVM CV Accuracies: [0.64292543 0.72466539 0.72179732 0.70028681 0.75322812]\n",
      "Average CV Accuracy: 0.7086\n",
      "\n",
      "Cross-validating Random Forest...\n",
      "Random Forest CV Accuracies: [0.63001912 0.72131931 0.72179732 0.70458891 0.73457676]\n",
      "Average CV Accuracy: 0.7025\n",
      "\n"
     ]
    }
   ],
   "source": [
    "from sklearn.model_selection import cross_val_score\n",
    "\n",
    "# --- Robust Evaluation with 5-Fold Cross-Validation ---\n",
    "\n",
    "# We will use our entire dataset (X, y) for this, as cross-validation handles splitting internally.\n",
    "\n",
    "# 1. Cross-validate Logistic Regression\n",
    "print(\"Cross-validating Logistic Regression...\")\n",
    "cv_scores_log_reg = cross_val_score(log_reg_model, X, y, cv=5, scoring='accuracy')\n",
    "print(f\"Logistic Regression CV Accuracies: {cv_scores_log_reg}\")\n",
    "print(f\"Average CV Accuracy: {cv_scores_log_reg.mean():.4f}\\n\")\n",
    "\n",
    "# 2. Cross-validate SVM\n",
    "print(\"Cross-validating SVM...\")\n",
    "cv_scores_svm = cross_val_score(svm_model, X, y, cv=5, scoring='accuracy')\n",
    "print(f\"SVM CV Accuracies: {cv_scores_svm}\")\n",
    "print(f\"Average CV Accuracy: {cv_scores_svm.mean():.4f}\\n\")\n",
    "\n",
    "# 3. Cross-validate Random Forest\n",
    "print(\"Cross-validating Random Forest...\")\n",
    "cv_scores_rf = cross_val_score(rf_model, X, y, cv=5, scoring='accuracy')\n",
    "print(f\"Random Forest CV Accuracies: {cv_scores_rf}\")\n",
    "print(f\"Average CV Accuracy: {cv_scores_rf.mean():.4f}\\n\")"
   ]
  },
  {
   "cell_type": "code",
   "execution_count": 9,
   "id": "0528a2f2-723a-4bfa-9d26-c5d93cbff84d",
   "metadata": {},
   "outputs": [
    {
     "data": {
      "image/png": "[encoded data removed]",
      "text/plain": [
       "<Figure size 1000x600 with 1 Axes>"
      ]
     },
     "metadata": {},
     "output_type": "display_data"
    }
   ],
   "source": [
    "# --- Feature Importance from Random Forest ---\n",
    "\n",
    "# Get the importance scores from the trained Random Forest model\n",
    "importances = rf_model.feature_importances_\n",
    "feature_names = X.columns\n",
    "\n",
    "# Create a DataFrame for better visualization\n",
    "feature_importance_df = pd.DataFrame({'feature': feature_names, 'importance': importances})\n",
    "\n",
    "# Sort the features by importance\n",
    "feature_importance_df = feature_importance_df.sort_values(by='importance', ascending=False)\n",
    "\n",
    "# Plot the top 10 most important features\n",
    "plt.figure(figsize=(10, 6))\n",
    "sns.barplot(x='importance', y='feature', data=feature_importance_df.head(10))\n",
    "plt.title('Top 10 Most Important Features for Predicting Loan Default')\n",
    "plt.xlabel('Importance Score')\n",
    "plt.ylabel('Feature')\n",
    "plt.show()"
   ]
  },
  {
   "cell_type": "code",
   "execution_count": 10,
   "id": "3d4728cf-0306-49e0-9ab3-9729dd7e6430",
   "metadata": {},
   "outputs": [
    {
     "name": "stdout",
     "output_type": "stream",
     "text": [
      "Original number of features: 23\n",
      "Number of features after PCA: 16\n"
     ]
    }
   ],
   "source": [
    "from sklearn.preprocessing import StandardScaler\n",
    "from sklearn.decomposition import PCA\n",
    "import numpy as np\n",
    "\n",
    "# --- Step 1: Apply PCA ---\n",
    "\n",
    "# Although our data is already scaled, it's best practice to re-scale\n",
    "# the data you're feeding into a new pipeline.\n",
    "scaler = StandardScaler()\n",
    "X_scaled = scaler.fit_transform(X)\n",
    "\n",
    "# Apply PCA\n",
    "# We'll start by keeping enough components to explain 95% of the variance.\n",
    "pca = PCA(n_components=0.95)\n",
    "X_pca = pca.fit_transform(X_scaled)\n",
    "\n",
    "print(f\"Original number of features: {X.shape[1]}\")\n",
    "print(f\"Number of features after PCA: {pca.n_components_}\")"
   ]
  },
  {
   "cell_type": "code",
   "execution_count": null,
   "id": "38e27a1d-e26e-422a-8f25-5d3a3e184eb9",
   "metadata": {},
   "outputs": [
    {
     "name": "stdout",
     "output_type": "stream",
     "text": [
      "Cross-validating Logistic Regression with PCA...\n",
      "Average CV Accuracy with PCA: 0.7204\n",
      "\n",
      "Cross-validating SVM with PCA...\n",
      "Average CV Accuracy with PCA: 0.7045\n",
      "\n",
      "Cross-validating Random Forest with PCA...\n"
     ]
    }
   ],
   "source": [
    "# --- Step 2: Retrain Models on PCA Data ---\n",
    "\n",
    "# 1. Cross-validate Logistic Regression on PCA data\n",
    "print(\"Cross-validating Logistic Regression with PCA...\")\n",
    "cv_scores_log_reg_pca = cross_val_score(log_reg_model, X_pca, y, cv=5, scoring='accuracy')\n",
    "print(f\"Average CV Accuracy with PCA: {cv_scores_log_reg_pca.mean():.4f}\\n\")\n",
    "\n",
    "# 2. Cross-validate SVM on PCA data\n",
    "print(\"Cross-validating SVM with PCA...\")\n",
    "cv_scores_svm_pca = cross_val_score(svm_model, X_pca, y, cv=5, scoring='accuracy')\n",
    "print(f\"Average CV Accuracy with PCA: {cv_scores_svm_pca.mean():.4f}\\n\")\n",
    "\n",
    "# 3. Cross-validate Random Forest on PCA data\n",
    "print(\"Cross-validating Random Forest with PCA...\")\n",
    "cv_scores_rf_pca = cross_val_score(rf_model, X_pca, y, cv=5, scoring='accuracy')\n",
    "print(f\"Average CV Accuracy with PCA: {cv_scores_rf_pca.mean():.4f}\\n\")"
   ]
  },
  {
   "cell_type": "code",
   "execution_count": null,
   "id": "310690d5-5351-4af1-b9a6-4a9713984595",
   "metadata": {},
   "outputs": [],
   "source": [
    "from sklearn.model_selection import GridSearchCV\n",
    "\n",
    "# --- Step 1: Set up the Hyperparameter Grid Search ---\n",
    "\n",
    "# 1. Define the model we want to tune\n",
    "# Note: We create a new instance here\n",
    "model_to_tune = LogisticRegression(max_iter=1000, random_state=42)\n",
    "\n",
    "# 2. Define the settings (hyperparameters) we want to test\n",
    "# We'll test a range of values for the regularization parameter 'C'\n",
    "# We'll also test two different algorithms ('solver') for finding the solution\n",
    "param_grid = {\n",
    "    'C': [0.001, 0.01, 0.1, 1, 10, 100],\n",
    "    'solver': ['liblinear', 'saga']\n",
    "}\n",
    "\n",
    "# 3. Set up the Grid Search with 5-fold cross-validation\n",
    "grid_search = GridSearchCV(estimator=model_to_tune,\n",
    "                           param_grid=param_grid,\n",
    "                           cv=5,\n",
    "                           scoring='accuracy',\n",
    "                           verbose=1,  # This will print progress updates\n",
    "                           n_jobs=-1) # Use all available CPU cores"
   ]
  },
  {
   "cell_type": "code",
   "execution_count": null,
   "id": "975f09b9-706c-4061-bd13-217d606520a9",
   "metadata": {},
   "outputs": [],
   "source": [
    "# --- Step 2: Run the Grid Search on PCA Data ---\n",
    "\n",
    "print(\"Starting hyperparameter tuning...\")\n",
    "# We use the PCA-transformed data (X_pca) as it gave the best results\n",
    "grid_search.fit(X_pca, y)\n",
    "print(\"Tuning complete!\")\n",
    "\n",
    "# --- Step 3: View the Best Results ---\n",
    "\n",
    "print(\"\\nBest hyperparameters found:\")\n",
    "print(grid_search.best_params_)\n",
    "\n",
    "print(f\"\\nBest cross-validated accuracy score: {grid_search.best_score_:.4f}\")"
   ]
  },
  {
   "cell_type": "code",
   "execution_count": null,
   "id": "35a1827e-e5ad-4f53-bbcb-e999301b114b",
   "metadata": {},
   "outputs": [],
   "source": [
    "from sklearn.pipeline import Pipeline\n",
    "import joblib\n",
    "\n",
    "# --- Step 1: Create and Train the Final Model Pipeline ---\n",
    "\n",
    "# 1. Define the steps in the pipeline\n",
    "#    Step 1: Scale the data\n",
    "#    Step 2: Apply PCA\n",
    "#    Step 3: Train the final, tuned Logistic Regression model\n",
    "pipeline = Pipeline([\n",
    "    ('scaler', StandardScaler()),\n",
    "    ('pca', PCA(n_components=0.95)),\n",
    "    ('model', LogisticRegression(C=0.001, solver='saga', max_iter=1000, random_state=42))\n",
    "])\n",
    "\n",
    "# 2. Train the entire pipeline on the FULL dataset\n",
    "#    We use all the data now because we're preparing the final production model\n",
    "pipeline.fit(X, y)\n",
    "\n",
    "print(\"Final model pipeline trained successfully!\")\n",
    "\n",
    "# --- Step 2: Save the Pipeline ---\n",
    "\n",
    "# Save the entire pipeline object to a file\n",
    "joblib.dump(pipeline, 'D:\\PROJECTS\\CreditGuard\\saved_models\\credit_risk_pipeline.joblib')\n",
    "print(\"\\nPipeline saved successfully as 'credit_risk_pipeline.joblib'\")"
   ]
  },
  {
   "cell_type": "code",
   "execution_count": null,
   "id": "e7aaa61c-9252-4a8a-a738-b78938e95d4d",
   "metadata": {},
   "outputs": [],
   "source": []
  }
 ],
 "metadata": {
  "kernelspec": {
   "display_name": "Python 3 (ipykernel)",
   "language": "python",
   "name": "python3"
  },
  "language_info": {
   "codemirror_mode": {
    "name": "ipython",
    "version": 3
   },
   "file_extension": ".py",
   "mimetype": "text/x-python",
   "name": "python",
   "nbconvert_exporter": "python",
   "pygments_lexer": "ipython3",
   "version": "3.11.5"
  }
 },
 "nbformat": 4,
 "nbformat_minor": 5
}
