{
 "cells": [
  {
   "cell_type": "code",
   "execution_count": 1,
   "id": "13a33aac-9e65-42b1-b5c9-2d9814dcb1bc",
   "metadata": {},
   "outputs": [
    {
     "name": "stdout",
     "output_type": "stream",
     "text": [
      "Data successfully loaded and split.\n",
      "Training set shape: (8367, 23)\n",
      "Testing set shape: (2092, 23)\n"
     ]
    }
   ],
   "source": [
    "import pandas as pd\n",
    "from sklearn.model_selection import train_test_split\n",
    "from sklearn.linear_model import LogisticRegression\n",
    "from sklearn.metrics import accuracy_score, classification_report, confusion_matrix\n",
    "import seaborn as sns\n",
    "import matplotlib.pyplot as plt\n",
    "\n",
    "# Load the CLEANED dataset\n",
    "file_path = 'D:/PROJECTS/CreditGuard/data/heloc_dataset_processed.csv'\n",
    "df = pd.read_csv(file_path)\n",
    "\n",
    "# --- Separate Features (X) and Target (y) ---\n",
    "# X contains all columns EXCEPT the one we want to predict ('RiskPerformance')\n",
    "X = df.drop('RiskPerformance', axis=1)\n",
    "\n",
    "# y contains ONLY the column we want to predict\n",
    "y = df['RiskPerformance']\n",
    "\n",
    "# --- Split Data into Training and Testing Sets ---\n",
    "# We'll use 80% of the data to train the model and 20% to test its performance\n",
    "X_train, X_test, y_train, y_test = train_test_split(X, y, test_size=0.2, random_state=42, stratify=y)\n",
    "\n",
    "print(\"Data successfully loaded and split.\")\n",
    "print(f\"Training set shape: {X_train.shape}\")\n",
    "print(f\"Testing set shape: {X_test.shape}\")"
   ]
  },
  {
   "cell_type": "code",
   "execution_count": 2,
   "id": "8efbe469-9a0e-4348-aca1-4eb630814d88",
   "metadata": {},
   "outputs": [
    {
     "name": "stdout",
     "output_type": "stream",
     "text": [
      "Distribution of 'RiskPerformance' in the loaded data:\n",
      "RiskPerformance\n",
      "1    5459\n",
      "0    5000\n",
      "Name: count, dtype: int64\n"
     ]
    }
   ],
   "source": [
    "# --- DIAGNOSTIC CELL ---\n",
    "# Check the distribution of the target variable in the loaded dataframe\n",
    "print(\"Distribution of 'RiskPerformance' in the loaded data:\")\n",
    "print(df['RiskPerformance'].value_counts())"
   ]
  },
  {
   "cell_type": "code",
   "execution_count": 3,
   "id": "560a44d9-77a8-4a2d-bfae-6fdda646e4f5",
   "metadata": {},
   "outputs": [
    {
     "name": "stdout",
     "output_type": "stream",
     "text": [
      "Logistic Regression model trained successfully!\n"
     ]
    },
    {
     "name": "stderr",
     "output_type": "stream",
     "text": [
      "C:\\Users\\Asus\\anaconda3\\Lib\\site-packages\\sklearn\\linear_model\\_logistic.py:460: ConvergenceWarning: lbfgs failed to converge (status=1):\n",
      "STOP: TOTAL NO. of ITERATIONS REACHED LIMIT.\n",
      "\n",
      "Increase the number of iterations (max_iter) or scale the data as shown in:\n",
      "    https://scikit-learn.org/stable/modules/preprocessing.html\n",
      "Please also refer to the documentation for alternative solver options:\n",
      "    https://scikit-learn.org/stable/modules/linear_model.html#logistic-regression\n",
      "  n_iter_i = _check_optimize_result(\n"
     ]
    }
   ],
   "source": [
    "# --- Train the Logistic Regression Model ---\n",
    "\n",
    "# Create the model instance\n",
    "# max_iter=1000 ensures the model has enough iterations to find the best solution\n",
    "log_reg_model = LogisticRegression(max_iter=1000, random_state=42)\n",
    "\n",
    "# Train the model on the training data\n",
    "log_reg_model.fit(X_train, y_train)\n",
    "\n",
    "print(\"Logistic Regression model trained successfully!\")"
   ]
  },
  {
   "cell_type": "code",
   "execution_count": 4,
   "id": "57da4151-ac75-4c48-9b41-10a940347b11",
   "metadata": {},
   "outputs": [
    {
     "name": "stdout",
     "output_type": "stream",
     "text": [
      "Model Accuracy: 0.7132\n",
      "\n",
      "Classification Report:\n",
      "              precision    recall  f1-score   support\n",
      "\n",
      "    Good (0)       0.69      0.73      0.71      1000\n",
      "     Bad (1)       0.74      0.70      0.72      1092\n",
      "\n",
      "    accuracy                           0.71      2092\n",
      "   macro avg       0.71      0.71      0.71      2092\n",
      "weighted avg       0.71      0.71      0.71      2092\n",
      "\n",
      "\n",
      "Confusion Matrix:\n"
     ]
    },
    {
     "data": {
      "image/png": "[encoded data removed]",
      "text/plain": [
       "<Figure size 640x480 with 2 Axes>"
      ]
     },
     "metadata": {},
     "output_type": "display_data"
    }
   ],
   "source": [
    "# --- Evaluate the Model ---\n",
    "\n",
    "# Make predictions on the unseen test data\n",
    "y_pred = log_reg_model.predict(X_test)\n",
    "\n",
    "# --- Performance Metrics ---\n",
    "\n",
    "# 1. Accuracy Score\n",
    "accuracy = accuracy_score(y_test, y_pred)\n",
    "print(f\"Model Accuracy: {accuracy:.4f}\")\n",
    "\n",
    "# 2. Classification Report (Precision, Recall, F1-Score)\n",
    "print(\"\\nClassification Report:\")\n",
    "print(classification_report(y_test, y_pred, target_names=['Good (0)', 'Bad (1)']))\n",
    "\n",
    "# 3. Confusion Matrix\n",
    "print(\"\\nConfusion Matrix:\")\n",
    "cm = confusion_matrix(y_test, y_pred)\n",
    "sns.heatmap(cm, annot=True, fmt='d', cmap='Blues', xticklabels=['Good', 'Bad'], yticklabels=['Good', 'Bad'])\n",
    "plt.xlabel('Predicted')\n",
    "plt.ylabel('Actual')\n",
    "plt.show()"
   ]
  },
  {
   "cell_type": "code",
   "execution_count": 5,
   "id": "ef745021-beb3-4d7b-8992-6ea4f7c8c028",
   "metadata": {},
   "outputs": [
    {
     "name": "stdout",
     "output_type": "stream",
     "text": [
      "Training the SVM model...\n",
      "SVM model trained successfully!\n",
      "\n",
      "--- SVM Performance ---\n",
      "SVM Accuracy: 0.7103\n",
      "\n",
      "Classification Report:\n",
      "              precision    recall  f1-score   support\n",
      "\n",
      "    Good (0)       0.69      0.70      0.70      1000\n",
      "     Bad (1)       0.73      0.72      0.72      1092\n",
      "\n",
      "    accuracy                           0.71      2092\n",
      "   macro avg       0.71      0.71      0.71      2092\n",
      "weighted avg       0.71      0.71      0.71      2092\n",
      "\n"
     ]
    }
   ],
   "source": [
    "# --- Step 1: Train and Evaluate an SVM Model ---\n",
    "from sklearn.svm import SVC\n",
    "\n",
    "# Create the SVM model instance\n",
    "# The 'rbf' kernel is great for finding complex patterns\n",
    "svm_model = SVC(kernel='rbf', random_state=42)\n",
    "\n",
    "# Train the model\n",
    "print(\"Training the SVM model...\")\n",
    "svm_model.fit(X_train, y_train)\n",
    "print(\"SVM model trained successfully!\")\n",
    "\n",
    "# Make predictions\n",
    "y_pred_svm = svm_model.predict(X_test)\n",
    "\n",
    "# Evaluate the performance\n",
    "print(\"\\n--- SVM Performance ---\")\n",
    "print(f\"SVM Accuracy: {accuracy_score(y_test, y_pred_svm):.4f}\")\n",
    "print(\"\\nClassification Report:\")\n",
    "print(classification_report(y_test, y_pred_svm, target_names=['Good (0)', 'Bad (1)']))"
   ]
  },
  {
   "cell_type": "code",
   "execution_count": 6,
   "id": "16a429e6-9f87-4b0d-b3e8-7e2bbca7a072",
   "metadata": {},
   "outputs": [
    {
     "name": "stdout",
     "output_type": "stream",
     "text": [
      "Training the Random Forest model...\n",
      "Random Forest model trained successfully!\n",
      "\n",
      "--- Random Forest Performance ---\n",
      "Random Forest Accuracy: 0.7165\n",
      "\n",
      "Classification Report:\n",
      "              precision    recall  f1-score   support\n",
      "\n",
      "    Good (0)       0.72      0.66      0.69      1000\n",
      "     Bad (1)       0.71      0.77      0.74      1092\n",
      "\n",
      "    accuracy                           0.72      2092\n",
      "   macro avg       0.72      0.71      0.71      2092\n",
      "weighted avg       0.72      0.72      0.72      2092\n",
      "\n"
     ]
    }
   ],
   "source": [
    "# --- Step 2: Train and Evaluate a Random Forest Model ---\n",
    "from sklearn.ensemble import RandomForestClassifier\n",
    "\n",
    "# Create the Random Forest model instance\n",
    "# n_estimators=100 means it will build 100 decision trees\n",
    "rf_model = RandomForestClassifier(n_estimators=100, random_state=42)\n",
    "\n",
    "# Train the model\n",
    "print(\"Training the Random Forest model...\")\n",
    "rf_model.fit(X_train, y_train)\n",
    "print(\"Random Forest model trained successfully!\")\n",
    "\n",
    "# Make predictions\n",
    "y_pred_rf = rf_model.predict(X_test)\n",
    "\n",
    "# Evaluate the performance\n",
    "print(\"\\n--- Random Forest Performance ---\")\n",
    "print(f\"Random Forest Accuracy: {accuracy_score(y_test, y_pred_rf):.4f}\")\n",
    "print(\"\\nClassification Report:\")\n",
    "print(classification_report(y_test, y_pred_rf, target_names=['Good (0)', 'Bad (1)']))"
   ]
  },
  {
   "cell_type": "code",
   "execution_count": null,
   "id": "2d22c71c-cd8b-4ba6-bfb3-6d1e96a5d8dc",
   "metadata": {},
   "outputs": [],
   "source": []
  }
 ],
 "metadata": {
  "kernelspec": {
   "display_name": "Python 3 (ipykernel)",
   "language": "python",
   "name": "python3"
  },
  "language_info": {
   "codemirror_mode": {
    "name": "ipython",
    "version": 3
   },
   "file_extension": ".py",
   "mimetype": "text/x-python",
   "name": "python",
   "nbconvert_exporter": "python",
   "pygments_lexer": "ipython3",
   "version": "3.11.5"
  }
 },
 "nbformat": 4,
 "nbformat_minor": 5
}
